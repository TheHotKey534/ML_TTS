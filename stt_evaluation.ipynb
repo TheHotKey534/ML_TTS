{
 "cells": [
  {
   "metadata": {
    "ExecuteTime": {
     "end_time": "2024-04-30T10:07:37.503967Z",
     "start_time": "2024-04-30T10:07:36.750029Z"
    }
   },
   "cell_type": "code",
   "source": "import whisper",
   "id": "21e8f02060e888ff",
   "outputs": [],
   "execution_count": 9
  },
  {
   "metadata": {
    "ExecuteTime": {
     "end_time": "2024-04-30T10:13:35.942946Z",
     "start_time": "2024-04-30T10:08:00.863775Z"
    }
   },
   "cell_type": "code",
   "source": "model = whisper.load_model(\"medium\")",
   "id": "8958caa539d61e87",
   "outputs": [
    {
     "name": "stderr",
     "output_type": "stream",
     "text": [
      "100%|█████████████████████████████████████| 1.42G/1.42G [05:28<00:00, 4.64MiB/s]\n"
     ]
    }
   ],
   "execution_count": 10
  },
  {
   "metadata": {
    "ExecuteTime": {
     "end_time": "2024-04-30T10:55:12.952144Z",
     "start_time": "2024-04-30T10:55:12.629520Z"
    }
   },
   "cell_type": "code",
   "source": "result = model.transcribe(\"hf_tts_inferences/1.wav\")",
   "id": "b4e2b7188d66e8b8",
   "outputs": [],
   "execution_count": 25
  },
  {
   "metadata": {
    "ExecuteTime": {
     "end_time": "2024-04-30T10:55:13.520164Z",
     "start_time": "2024-04-30T10:55:13.512472Z"
    }
   },
   "cell_type": "code",
   "source": "result",
   "id": "7b9a8cba38500394",
   "outputs": [
    {
     "data": {
      "text/plain": [
       "{'text': ' Hello, world, text to speech.',\n",
       " 'segments': [{'id': 0,\n",
       "   'seek': 0,\n",
       "   'start': 0.0,\n",
       "   'end': 1.84,\n",
       "   'text': ' Hello, world, text to speech.',\n",
       "   'tokens': [50364, 2425, 11, 1002, 11, 2487, 281, 6218, 13, 50456],\n",
       "   'temperature': 0.0,\n",
       "   'avg_logprob': -0.48352666334672406,\n",
       "   'compression_ratio': 0.7837837837837838,\n",
       "   'no_speech_prob': 0.021048247814178467}],\n",
       " 'language': 'en'}"
      ]
     },
     "execution_count": 26,
     "metadata": {},
     "output_type": "execute_result"
    }
   ],
   "execution_count": 26
  },
  {
   "metadata": {
    "ExecuteTime": {
     "end_time": "2024-04-30T10:21:42.249028Z",
     "start_time": "2024-04-30T10:21:40.761896Z"
    }
   },
   "cell_type": "code",
   "source": "import evaluate",
   "id": "f97ceecbc64f8a4e",
   "outputs": [
    {
     "name": "stderr",
     "output_type": "stream",
     "text": [
      "I0430 15:21:41.399141 9837 config.py:58] PyTorch version 2.3.0 available.\n"
     ]
    }
   ],
   "execution_count": 14
  },
  {
   "metadata": {
    "ExecuteTime": {
     "end_time": "2024-04-30T10:22:09.179377Z",
     "start_time": "2024-04-30T10:22:02.799820Z"
    }
   },
   "cell_type": "code",
   "source": "bleu_metric = evaluate.load(\"evaluate-metric/bleu\")",
   "id": "d7a410bd8b007032",
   "outputs": [
    {
     "data": {
      "text/plain": [
       "Downloading builder script:   0%|          | 0.00/5.94k [00:00<?, ?B/s]"
      ],
      "application/vnd.jupyter.widget-view+json": {
       "version_major": 2,
       "version_minor": 0,
       "model_id": "475c495c2ca040c089909a49bd9dcfe1"
      }
     },
     "metadata": {},
     "output_type": "display_data"
    },
    {
     "data": {
      "text/plain": [
       "Downloading extra modules:   0%|          | 0.00/1.55k [00:00<?, ?B/s]"
      ],
      "application/vnd.jupyter.widget-view+json": {
       "version_major": 2,
       "version_minor": 0,
       "model_id": "d64d5b1d2f574fd2a7dedc84eaf0e39c"
      }
     },
     "metadata": {},
     "output_type": "display_data"
    },
    {
     "data": {
      "text/plain": [
       "Downloading extra modules:   0%|          | 0.00/3.34k [00:00<?, ?B/s]"
      ],
      "application/vnd.jupyter.widget-view+json": {
       "version_major": 2,
       "version_minor": 0,
       "model_id": "933f590f5096403eb1c5ffe7031e1b36"
      }
     },
     "metadata": {},
     "output_type": "display_data"
    }
   ],
   "execution_count": 15
  },
  {
   "metadata": {
    "ExecuteTime": {
     "end_time": "2024-04-30T10:27:27.808665Z",
     "start_time": "2024-04-30T10:27:27.804865Z"
    }
   },
   "cell_type": "code",
   "source": [
    "predictions = [\" How are you?\"]\n",
    "references = [\"How are you?\"]"
   ],
   "id": "a5e703bd7e02be03",
   "outputs": [],
   "execution_count": 22
  },
  {
   "metadata": {
    "ExecuteTime": {
     "end_time": "2024-04-30T10:27:28.146461Z",
     "start_time": "2024-04-30T10:27:28.127529Z"
    }
   },
   "cell_type": "code",
   "source": "bleu_results = bleu_metric.compute(predictions=predictions, references=references)",
   "id": "1051b3092302d819",
   "outputs": [],
   "execution_count": 23
  },
  {
   "metadata": {
    "ExecuteTime": {
     "end_time": "2024-04-30T10:27:28.638688Z",
     "start_time": "2024-04-30T10:27:28.627621Z"
    }
   },
   "cell_type": "code",
   "source": "bleu_results",
   "id": "32a51f0775f87f56",
   "outputs": [
    {
     "data": {
      "text/plain": [
       "{'bleu': 1.0,\n",
       " 'precisions': [1.0, 1.0, 1.0, 1.0],\n",
       " 'brevity_penalty': 1.0,\n",
       " 'length_ratio': 1.0,\n",
       " 'translation_length': 4,\n",
       " 'reference_length': 4}"
      ]
     },
     "execution_count": 24,
     "metadata": {},
     "output_type": "execute_result"
    }
   ],
   "execution_count": 24
  },
  {
   "metadata": {},
   "cell_type": "code",
   "outputs": [],
   "execution_count": null,
   "source": "",
   "id": "cd6f7370c3e1dfe6"
  }
 ],
 "metadata": {
  "kernelspec": {
   "display_name": "Python 3",
   "language": "python",
   "name": "python3"
  },
  "language_info": {
   "codemirror_mode": {
    "name": "ipython",
    "version": 2
   },
   "file_extension": ".py",
   "mimetype": "text/x-python",
   "name": "python",
   "nbconvert_exporter": "python",
   "pygments_lexer": "ipython2",
   "version": "2.7.6"
  }
 },
 "nbformat": 4,
 "nbformat_minor": 5
}
