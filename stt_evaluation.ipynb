{
 "cells": [
  {
   "metadata": {
    "ExecuteTime": {
     "end_time": "2024-05-02T02:44:46.600686Z",
     "start_time": "2024-05-02T02:44:45.728389Z"
    }
   },
   "cell_type": "code",
   "source": "import whisper",
   "id": "21e8f02060e888ff",
   "outputs": [],
   "execution_count": 1
  },
  {
   "metadata": {
    "ExecuteTime": {
     "end_time": "2024-05-02T02:44:57.226868Z",
     "start_time": "2024-05-02T02:44:47.280577Z"
    }
   },
   "cell_type": "code",
   "source": "model = whisper.load_model(\"medium\")",
   "id": "8958caa539d61e87",
   "outputs": [],
   "execution_count": 2
  },
  {
   "metadata": {
    "ExecuteTime": {
     "end_time": "2024-05-02T02:45:22.906646Z",
     "start_time": "2024-05-02T02:45:20.997361Z"
    }
   },
   "cell_type": "code",
   "source": "import evaluate",
   "id": "f97ceecbc64f8a4e",
   "outputs": [],
   "execution_count": 5
  },
  {
   "metadata": {
    "ExecuteTime": {
     "end_time": "2024-05-02T02:45:32.114851Z",
     "start_time": "2024-05-02T02:45:23.593005Z"
    }
   },
   "cell_type": "code",
   "source": [
    "import Levenshtein\n",
    "\n",
    "def text_similarity_evaluation(labels, preds, threshold=0.8):\n",
    "    tp, fp, fn = 0, 0, 0\n",
    "\n",
    "    for label, pred in zip(labels, preds):\n",
    "        similarity_score = 1 - Levenshtein.distance(label, pred) / max(len(label), len(pred))\n",
    "        if similarity_score >= threshold:\n",
    "            tp += 1\n",
    "        else:\n",
    "            fp += 1\n",
    "\n",
    "    fn = len(labels) - tp\n",
    "\n",
    "    precision = tp / (tp + fp)\n",
    "    recall = tp / (tp + fn)\n",
    "    f1_score = 2 * (precision * recall) / (precision + recall)\n",
    "\n",
    "    return precision, recall, f1_score\n",
    "\n",
    "bleu_metric = evaluate.load(\"evaluate-metric/bleu\")"
   ],
   "id": "d7a410bd8b007032",
   "outputs": [
    {
     "data": {
      "text/plain": [
       "Downloading builder script:   0%|          | 0.00/5.94k [00:00<?, ?B/s]"
      ],
      "application/vnd.jupyter.widget-view+json": {
       "version_major": 2,
       "version_minor": 0,
       "model_id": "4659854ab9b04df99c56c7f6549ae8ca"
      }
     },
     "metadata": {},
     "output_type": "display_data"
    },
    {
     "data": {
      "text/plain": [
       "Downloading extra modules:   0%|          | 0.00/1.55k [00:00<?, ?B/s]"
      ],
      "application/vnd.jupyter.widget-view+json": {
       "version_major": 2,
       "version_minor": 0,
       "model_id": "096c79a210e840a4b0484067c880aa61"
      }
     },
     "metadata": {},
     "output_type": "display_data"
    },
    {
     "data": {
      "text/plain": [
       "Downloading extra modules:   0%|          | 0.00/3.34k [00:00<?, ?B/s]"
      ],
      "application/vnd.jupyter.widget-view+json": {
       "version_major": 2,
       "version_minor": 0,
       "model_id": "846f81a8406b4a14b56008eaa87c2f71"
      }
     },
     "metadata": {},
     "output_type": "display_data"
    },
    {
     "data": {
      "text/plain": [
       "Downloading builder script:   0%|          | 0.00/6.77k [00:00<?, ?B/s]"
      ],
      "application/vnd.jupyter.widget-view+json": {
       "version_major": 2,
       "version_minor": 0,
       "model_id": "29ec11cca80540e5b7cf2fb161a73c97"
      }
     },
     "metadata": {},
     "output_type": "display_data"
    },
    {
     "data": {
      "text/plain": [
       "Downloading builder script:   0%|          | 0.00/4.20k [00:00<?, ?B/s]"
      ],
      "application/vnd.jupyter.widget-view+json": {
       "version_major": 2,
       "version_minor": 0,
       "model_id": "b64d731d39e3475e9aba0c1bb2332c6e"
      }
     },
     "metadata": {},
     "output_type": "display_data"
    }
   ],
   "execution_count": 6
  },
  {
   "metadata": {
    "ExecuteTime": {
     "end_time": "2024-05-02T03:08:04.787026Z",
     "start_time": "2024-05-02T03:08:04.784079Z"
    }
   },
   "cell_type": "code",
   "source": [
    "import json\n",
    "\n",
    "with open(\"test_samples.json\", \"r\") as f:\n",
    "    test_samples = json.load(f)"
   ],
   "id": "38fe77932e9c8c2",
   "outputs": [],
   "execution_count": 17
  },
  {
   "metadata": {
    "ExecuteTime": {
     "end_time": "2024-05-02T03:17:21.547429Z",
     "start_time": "2024-05-02T03:17:21.543417Z"
    }
   },
   "cell_type": "code",
   "source": [
    "from tqdm.auto import tqdm\n",
    "\n",
    "def evaluate(data_path, save_path):\n",
    "    predictions = []\n",
    "    references = []\n",
    "    for i in tqdm(range(len(test_samples))):\n",
    "        result = model.transcribe(f\"{data_path}/{i + 1}.wav\")\n",
    "        \n",
    "        predictions.append(result[\"text\"])\n",
    "        references.append(test_samples[i][\"text\"])\n",
    "    \n",
    "    bleu_score = bleu_metric.compute(predictions=predictions, references=references)\n",
    "    precision, recall, f1_score = text_similarity_evaluation(references, predictions)\n",
    "    \n",
    "    results = {\n",
    "        \"bleu\": bleu_score,\n",
    "        \"precision\": precision,\n",
    "        \"recall\": recall,\n",
    "        \"f1_score\": f1_score\n",
    "    }\n",
    "    \n",
    "    with open(save_path, \"w\") as f:\n",
    "        json.dump(results, f, ensure_ascii=False, indent=4)"
   ],
   "id": "801479e9ae65c705",
   "outputs": [],
   "execution_count": 22
  },
  {
   "metadata": {
    "ExecuteTime": {
     "end_time": "2024-05-02T03:18:54.198790Z",
     "start_time": "2024-05-02T03:17:22.792897Z"
    }
   },
   "cell_type": "code",
   "source": "evaluate(\"hf_tts_inferences\", \"hf_tts_evaluation.json\")",
   "id": "9246454be6d82c73",
   "outputs": [
    {
     "data": {
      "text/plain": [
       "  0%|          | 0/100 [00:00<?, ?it/s]"
      ],
      "application/vnd.jupyter.widget-view+json": {
       "version_major": 2,
       "version_minor": 0,
       "model_id": "4c1d8fd6823a41748ead902a2178ba16"
      }
     },
     "metadata": {},
     "output_type": "display_data"
    }
   ],
   "execution_count": 23
  },
  {
   "metadata": {
    "ExecuteTime": {
     "end_time": "2024-05-02T03:21:12.585369Z",
     "start_time": "2024-05-02T03:19:45.764807Z"
    }
   },
   "cell_type": "code",
   "source": "evaluate(\"pytorch_pretrained_inferences\", \"pytorch_tts_evaluation.json\")",
   "id": "d6d4eed7e01229df",
   "outputs": [
    {
     "data": {
      "text/plain": [
       "  0%|          | 0/100 [00:00<?, ?it/s]"
      ],
      "application/vnd.jupyter.widget-view+json": {
       "version_major": 2,
       "version_minor": 0,
       "model_id": "84077af381aa46bdb9b78bd0c8196627"
      }
     },
     "metadata": {},
     "output_type": "display_data"
    }
   ],
   "execution_count": 24
  },
  {
   "metadata": {
    "ExecuteTime": {
     "end_time": "2024-05-02T03:23:15.122164Z",
     "start_time": "2024-05-02T03:22:03.915134Z"
    }
   },
   "cell_type": "code",
   "source": "evaluate(\"custom_TTS/Transformer-TTS/samples\", \"own_tts_evaluation.json\")",
   "id": "dfb5693ce3ad16e1",
   "outputs": [
    {
     "data": {
      "text/plain": [
       "  0%|          | 0/100 [00:00<?, ?it/s]"
      ],
      "application/vnd.jupyter.widget-view+json": {
       "version_major": 2,
       "version_minor": 0,
       "model_id": "6825598e8b7443f2a69114f55de54438"
      }
     },
     "metadata": {},
     "output_type": "display_data"
    }
   ],
   "execution_count": 26
  }
 ],
 "metadata": {
  "kernelspec": {
   "display_name": "Python 3",
   "language": "python",
   "name": "python3"
  },
  "language_info": {
   "codemirror_mode": {
    "name": "ipython",
    "version": 2
   },
   "file_extension": ".py",
   "mimetype": "text/x-python",
   "name": "python",
   "nbconvert_exporter": "python",
   "pygments_lexer": "ipython2",
   "version": "2.7.6"
  }
 },
 "nbformat": 4,
 "nbformat_minor": 5
}
